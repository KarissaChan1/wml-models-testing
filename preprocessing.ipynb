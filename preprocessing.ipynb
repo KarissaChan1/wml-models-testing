{
 "cells": [
  {
   "cell_type": "markdown",
   "metadata": {},
   "source": [
    "# Notebook for any required pre-processing tasks prior to WML segmentation"
   ]
  },
  {
   "cell_type": "markdown",
   "metadata": {},
   "source": [
    "## Visualize and save Model paths"
   ]
  },
  {
   "cell_type": "code",
   "execution_count": 1,
   "metadata": {},
   "outputs": [],
   "source": [
    "import os\n",
    "def get_subfolders(root_dir, dir_list=None):\n",
    "    if dir_list is None:\n",
    "        dir_list = []\n",
    "\n",
    "    subfolders = [f for f in os.listdir(os.path.join(root_dir, *dir_list)) \n",
    "                   if f.lower() != 'readme.txt' and f != '.DS_Store']\n",
    "    return subfolders"
   ]
  },
  {
   "cell_type": "code",
   "execution_count": 2,
   "metadata": {},
   "outputs": [
    {
     "name": "stdout",
     "output_type": "stream",
     "text": [
      "WML_Vascular_Lesion_Training\n",
      "['SC-UNET']\n",
      "['cf1', 'cf0', 'all_data', 'cf2', 'cf3', 'cf4']\n",
      "WML_Stroke_Multi-Class_Training\n",
      "['SC-UNET False Positive Multi Class']\n",
      "['models', 'test_files.txt', 'logs', 'figures', 'params', 'history']\n",
      "WML_Multi-View_Training\n",
      "['U-Net']\n",
      "['Sagittal Model', 'Axial Model', 'Coronal Model', 'MICCAI Axial']\n",
      "WML_GS_SS_Training\n",
      "['SC-UNET']\n",
      "['pre_train_on_CAIN-SS_30EP', 'fine_tune_on_MICCAI-GS_75EP', 'individual_datasets_GS_75EP', 'pre_train_on_CAIN-SS_75EP', 'fine_tune_on_MICCAI-GS_30EP']\n",
      "WML_False_Positive_Training\n",
      "['SC-UNET']\n",
      "['fp-cf', 'weights', 'nfp-cf']\n"
     ]
    }
   ],
   "source": [
    "root_dir = '/Users/karissachan/Library/CloudStorage/GoogleDrive-karissa.chan@torontomu.ca/Shared drives/_Models/Neuro/WML/RA Models'\n",
    "dest_dir = '/Users/karissachan/Library/CloudStorage/GoogleDrive-karissa.chan@torontomu.ca/Shared drives/Karissa Chan/NeuroAI Pipeline/wml_segmentation_testing/final_models'\n",
    "\n",
    "folders = get_subfolders(root_dir)\n",
    "\n",
    "\n",
    "for folder in folders:\n",
    "    print(folder)\n",
    "    subfolders1 = get_subfolders(root_dir,[folder])\n",
    "    print(subfolders1)\n",
    "    for subfolder in subfolders1:\n",
    "        subfolders2 = get_subfolders(root_dir, [folder, subfolder])\n",
    "        print(subfolders2)\n",
    "\n"
   ]
  },
  {
   "cell_type": "code",
   "execution_count": 3,
   "metadata": {},
   "outputs": [],
   "source": [
    "import json\n",
    "\n",
    "json_model_dict = [\n",
    "    {\n",
    "    'name': root_dir + '/WML_False_Positive_Training',\n",
    "    'model_paths': [\n",
    "        'SC-UNET/fp-cf/sc-fp_cf5/models/model_scunet_GDL.hdf5',\n",
    "        'SC-UNET/nfp-cf/sc-nfp_cf5/models/model_scunet_GDL.hdf5'\n",
    "    ]\n",
    "},\n",
    "\n",
    "    {\n",
    "    'name': root_dir + '/WML_GS_SS_Training',\n",
    "    'model_paths': [\n",
    "        'SC-UNET/pre_train_on_CAIN-SS_30EP/fold_1/models/model_scunet_GDL.hdf5',\n",
    "        'SC-UNET/pre_train_on_CAIN-SS_75EP/fold_1/models/model_scunet_GDL.hdf5',\n",
    "        'SC-UNET/fine_tune_on_MICCAI-GS_30EP/fold_1/models/model_scunet_GDL.hdf5',\n",
    "        'SC-UNET/fine_tune_on_MICCAI-GS_75EP/fold_1/models/model_scunet_GDL.hdf5',\n",
    "        'SC-UNET/individual_datasets_GS_75EP/ADNI/models/model_scunet_GDL.hdf5',\n",
    "        'SC-UNET/individual_datasets_GS_75EP/CAIN/models/model_scunet_GDL.hdf5',\n",
    "        'SC-UNET/individual_datasets_GS_75EP/CCNA/models/model_scunet_GDL.hdf5'\n",
    "    ]\n",
    "},\n",
    "\n",
    "{\n",
    "    'name': root_dir + '/WML_Multi-View_Training',\n",
    "    'model_paths': [\n",
    "        'U-Net/Axial Model/model_files/models/model_unet_GDL.hdf5'\n",
    "    ]\n",
    "},\n",
    "\n",
    "{\n",
    "    'name': root_dir + '/WML_Stroke_Multi-Class_Training',\n",
    "    'model_paths': [\n",
    "        'SC-UNET False Positive Multi Class/models/model_scunetmulticlass_GDL.hdf5'\n",
    "    ]\n",
    "},\n",
    "\n",
    "{\n",
    "    'name': root_dir + '/WML_Vascular_Lesion_Training',\n",
    "    'model_paths': [\n",
    "        'SC-UNET/all_data/models/model_scunet_GDL.hdf5'\n",
    "    ]\n",
    "}\n",
    "]"
   ]
  },
  {
   "cell_type": "code",
   "execution_count": 4,
   "metadata": {},
   "outputs": [
    {
     "name": "stdout",
     "output_type": "stream",
     "text": [
      "Model directory saved to: model_paths.txt\n",
      "\n",
      "Model 1:\n",
      "Name: WML_False_Positive_Training_SC-UNET_fp-cf_sc-fp_cf5\n",
      "Path: WML_False_Positive_Training/SC-UNET/fp-cf/sc-fp_cf5/models/model_scunet_GDL.hdf5\n",
      "\n",
      "Model 2:\n",
      "Name: WML_False_Positive_Training_SC-UNET_nfp-cf_sc-nfp_cf5\n",
      "Path: WML_False_Positive_Training/SC-UNET/nfp-cf/sc-nfp_cf5/models/model_scunet_GDL.hdf5\n",
      "\n",
      "Model 3:\n",
      "Name: WML_GS_SS_Training_SC-UNET_pre_train_on_CAIN-SS_30EP_fold_1\n",
      "Path: WML_GS_SS_Training/SC-UNET/pre_train_on_CAIN-SS_30EP/fold_1/models/model_scunet_GDL.hdf5\n",
      "\n",
      "Model 4:\n",
      "Name: WML_GS_SS_Training_SC-UNET_pre_train_on_CAIN-SS_75EP_fold_1\n",
      "Path: WML_GS_SS_Training/SC-UNET/pre_train_on_CAIN-SS_75EP/fold_1/models/model_scunet_GDL.hdf5\n",
      "\n",
      "Model 5:\n",
      "Name: WML_GS_SS_Training_SC-UNET_fine_tune_on_MICCAI-GS_30EP_fold_1\n",
      "Path: WML_GS_SS_Training/SC-UNET/fine_tune_on_MICCAI-GS_30EP/fold_1/models/model_scunet_GDL.hdf5\n",
      "\n",
      "Model 6:\n",
      "Name: WML_GS_SS_Training_SC-UNET_fine_tune_on_MICCAI-GS_75EP_fold_1\n",
      "Path: WML_GS_SS_Training/SC-UNET/fine_tune_on_MICCAI-GS_75EP/fold_1/models/model_scunet_GDL.hdf5\n",
      "\n",
      "Model 7:\n",
      "Name: WML_GS_SS_Training_SC-UNET_individual_datasets_GS_75EP_ADNI\n",
      "Path: WML_GS_SS_Training/SC-UNET/individual_datasets_GS_75EP/ADNI/models/model_scunet_GDL.hdf5\n",
      "\n",
      "Model 8:\n",
      "Name: WML_GS_SS_Training_SC-UNET_individual_datasets_GS_75EP_CAIN\n",
      "Path: WML_GS_SS_Training/SC-UNET/individual_datasets_GS_75EP/CAIN/models/model_scunet_GDL.hdf5\n",
      "\n",
      "Model 9:\n",
      "Name: WML_GS_SS_Training_SC-UNET_individual_datasets_GS_75EP_CCNA\n",
      "Path: WML_GS_SS_Training/SC-UNET/individual_datasets_GS_75EP/CCNA/models/model_scunet_GDL.hdf5\n",
      "\n",
      "Model 10:\n",
      "Name: WML_Multi-View_Training_U-Net_Axial Model_model_files\n",
      "Path: WML_Multi-View_Training/U-Net/Axial Model/model_files/models/model_unet_GDL.hdf5\n",
      "\n",
      "Model 11:\n",
      "Name: WML_Stroke_Multi-Class_Training_SC-UNET False Positive Multi Class\n",
      "Path: WML_Stroke_Multi-Class_Training/SC-UNET False Positive Multi Class/models/model_scunetmulticlass_GDL.hdf5\n",
      "\n",
      "Model 12:\n",
      "Name: WML_Vascular_Lesion_Training_SC-UNET_all_data\n",
      "Path: WML_Vascular_Lesion_Training/SC-UNET/all_data/models/model_scunet_GDL.hdf5\n"
     ]
    }
   ],
   "source": [
    "def create_model_directory_from_json(json_model_dict, output_file):\n",
    "    \"\"\"\n",
    "    Create a model directory mapping from JSON structure and save to text file.\n",
    "    \n",
    "    Args:\n",
    "        json_model_dict (list): List of dictionaries containing model information\n",
    "        output_file (str): Path to save the output text file\n",
    "    \"\"\"\n",
    "    try:\n",
    "        model_paths = {}\n",
    "        \n",
    "        # Iterate through each entry in the JSON structure\n",
    "        for entry in json_model_dict:\n",
    "            base_path = entry['name']\n",
    "            base_path = base_path.split('/')[-1]\n",
    "            \n",
    "            # Process each model path\n",
    "            for model_path in entry['model_paths']:\n",
    "                # Get the model name from the path\n",
    "                model_parts = model_path.split('/')\n",
    "                model_name = base_path + '_' + '_'.join(model_parts[:-2])  # Join all parts except the last file name\n",
    "                \n",
    "                # Create full path\n",
    "                full_path = os.path.join(base_path, model_path)\n",
    "                model_paths[model_name] = full_path\n",
    "        \n",
    "        # Save to text file\n",
    "        with open(output_file, 'w') as f:\n",
    "            f.write(\"Model Directory Mapping\\n\")\n",
    "            f.write(\"=\" * 80 + \"\\n\\n\")\n",
    "            \n",
    "            # Write each model and its path\n",
    "            for model_name, path in sorted(model_paths.items()):\n",
    "                f.write(f\"Model: {model_name}\\n\")\n",
    "                f.write(f\"Path: {path}\\n\")\n",
    "                f.write(\"-\" * 80 + \"\\n\\n\")\n",
    "                \n",
    "        print(f\"Model directory saved to: {output_file}\")\n",
    "    \n",
    "        \n",
    "    except Exception as e:\n",
    "        print(f\"Error creating model directory: {str(e)}\")\n",
    "    \n",
    "    return model_paths\n",
    "\n",
    "# Example usage:\n",
    "output_file = \"model_paths.txt\"\n",
    "model_paths = create_model_directory_from_json(json_model_dict, output_file)\n",
    "\n",
    "for i, (name, path) in enumerate(list(model_paths.items())):\n",
    "    print(f\"\\nModel {i+1}:\")\n",
    "    print(f\"Name: {name}\")\n",
    "    print(f\"Path: {path}\")"
   ]
  },
  {
   "cell_type": "markdown",
   "metadata": {},
   "source": [
    "## Brain extract "
   ]
  },
  {
   "cell_type": "code",
   "execution_count": 1,
   "metadata": {},
   "outputs": [],
   "source": [
    "import nibabel as nib\n",
    "import os"
   ]
  },
  {
   "cell_type": "code",
   "execution_count": 6,
   "metadata": {},
   "outputs": [],
   "source": [
    "data_path = \"/Users/karissachan/Library/CloudStorage/GoogleDrive-karissa.chan@torontomu.ca/Shared drives/Karissa Chan/NeuroAI Pipeline/wml_segmentation_testing/test_inference_data/Standardized_For_WML\"\n",
    "out_path = \"/Users/karissachan/Library/CloudStorage/GoogleDrive-karissa.chan@torontomu.ca/Shared drives/Karissa Chan/NeuroAI Pipeline/wml_segmentation_testing/test_inference_data/Standardized_and_Brain_Extracted_For_WML/\"\n",
    "brain_folder = os.path.join(data_path, \"brain_mask\")\n",
    "\n",
    "volumes = os.listdir(brain_folder)\n",
    "for folder in os.listdir(data_path):\n",
    "    if folder.startswith(\".DS_Store\") or folder == \"brain_mask\":\n",
    "            continue\n",
    "    new_folder = os.path.join(out_path, folder)\n",
    "    os.makedirs(new_folder, exist_ok=True)\n",
    "    for volume in volumes:\n",
    "\n",
    "        if volume.startswith(\".DS_Store\"):\n",
    "            continue\n",
    "        brain_mask = nib.load(os.path.join(brain_folder, volume)).get_fdata()\n",
    "        orig = nib.load(os.path.join(data_path, folder, volume))\n",
    "        header = orig.header\n",
    "        affine = orig.affine\n",
    "        vol = orig.get_fdata()\n",
    "\n",
    "        vol = vol * brain_mask\n",
    "        new_vol = nib.Nifti1Image(vol, affine, header)\n",
    "        nib.save(new_vol, os.path.join(new_folder, volume))\n"
   ]
  },
  {
   "cell_type": "code",
   "execution_count": 8,
   "metadata": {},
   "outputs": [
    {
     "name": "stdout",
     "output_type": "stream",
     "text": [
      "(256, 256, 48)\n",
      "[[-9.36815977e-01 -3.21625248e-02 -5.03593460e-02  1.28095444e+02]\n",
      " [-3.09648849e-02  9.34605718e-01 -2.13693738e-01 -8.00334625e+01]\n",
      " [-1.79797560e-02  6.62110150e-02  2.99194503e+00 -7.66196136e+01]\n",
      " [ 0.00000000e+00  0.00000000e+00  0.00000000e+00  1.00000000e+00]]\n",
      "<class 'nibabel.nifti1.Nifti1Header'> object, endian='<'\n",
      "sizeof_hdr      : 348\n",
      "data_type       : np.bytes_(b'')\n",
      "db_name         : np.bytes_(b'')\n",
      "extents         : 0\n",
      "session_error   : 0\n",
      "regular         : np.bytes_(b'r')\n",
      "dim_info        : 0\n",
      "dim             : [  3 256 256  48   1   1   1   1]\n",
      "intent_p1       : 0.0\n",
      "intent_p2       : 0.0\n",
      "intent_p3       : 0.0\n",
      "intent_code     : none\n",
      "datatype        : float32\n",
      "bitpix          : 32\n",
      "slice_start     : 0\n",
      "pixdim          : [-1.      0.9375  0.9375  3.      9.      0.      0.      0.    ]\n",
      "vox_offset      : 0.0\n",
      "scl_slope       : nan\n",
      "scl_inter       : nan\n",
      "slice_end       : 0\n",
      "slice_code      : unknown\n",
      "xyzt_units      : 10\n",
      "cal_max         : 0.0\n",
      "cal_min         : 0.0\n",
      "slice_duration  : 0.0\n",
      "toffset         : 0.0\n",
      "glmax           : 0\n",
      "glmin           : 0\n",
      "descrip         : np.bytes_(b'FSL5.0')\n",
      "aux_file        : np.bytes_(b'')\n",
      "qform_code      : scanner\n",
      "sform_code      : scanner\n",
      "quatern_b       : -0.016847666\n",
      "quatern_c       : 0.9991874\n",
      "quatern_d       : 0.035492986\n",
      "qoffset_x       : 128.09544\n",
      "qoffset_y       : -80.03346\n",
      "qoffset_z       : -76.61961\n",
      "srow_x          : [-9.3681598e-01 -3.2162525e-02 -5.0359346e-02  1.2809544e+02]\n",
      "srow_y          : [-3.0964885e-02  9.3460572e-01 -2.1369374e-01 -8.0033463e+01]\n",
      "srow_z          : [-1.7979756e-02  6.6211015e-02  2.9919450e+00 -7.6619614e+01]\n",
      "intent_name     : np.bytes_(b'')\n",
      "magic           : np.bytes_(b'n+1')\n",
      "(256, 256, 48)\n",
      "-36.005313873291016\n",
      "79.7110595703125\n",
      "(256, 256, 48)\n",
      "[[-9.36815977e-01 -3.21625248e-02 -5.03593460e-02  1.28095444e+02]\n",
      " [-3.09648849e-02  9.34605718e-01 -2.13693738e-01 -8.00334625e+01]\n",
      " [-1.79797560e-02  6.62110150e-02  2.99194503e+00 -7.66196136e+01]\n",
      " [ 0.00000000e+00  0.00000000e+00  0.00000000e+00  1.00000000e+00]]\n",
      "<class 'nibabel.nifti1.Nifti1Header'> object, endian='<'\n",
      "sizeof_hdr      : 348\n",
      "data_type       : np.bytes_(b'')\n",
      "db_name         : np.bytes_(b'')\n",
      "extents         : 0\n",
      "session_error   : 0\n",
      "regular         : np.bytes_(b'r')\n",
      "dim_info        : 0\n",
      "dim             : [  3 256 256  48   1   1   1   1]\n",
      "intent_p1       : 0.0\n",
      "intent_p2       : 0.0\n",
      "intent_p3       : 0.0\n",
      "intent_code     : none\n",
      "datatype        : float32\n",
      "bitpix          : 32\n",
      "slice_start     : 0\n",
      "pixdim          : [-1.      0.9375  0.9375  3.      9.      0.      0.      0.    ]\n",
      "vox_offset      : 0.0\n",
      "scl_slope       : nan\n",
      "scl_inter       : nan\n",
      "slice_end       : 0\n",
      "slice_code      : unknown\n",
      "xyzt_units      : 10\n",
      "cal_max         : 0.0\n",
      "cal_min         : 0.0\n",
      "slice_duration  : 0.0\n",
      "toffset         : 0.0\n",
      "glmax           : 0\n",
      "glmin           : 0\n",
      "descrip         : np.bytes_(b'FSL5.0')\n",
      "aux_file        : np.bytes_(b'')\n",
      "qform_code      : scanner\n",
      "sform_code      : scanner\n",
      "quatern_b       : -0.016847666\n",
      "quatern_c       : 0.9991874\n",
      "quatern_d       : 0.035492986\n",
      "qoffset_x       : 128.09544\n",
      "qoffset_y       : -80.03346\n",
      "qoffset_z       : -76.61961\n",
      "srow_x          : [-9.3681598e-01 -3.2162525e-02 -5.0359346e-02  1.2809544e+02]\n",
      "srow_y          : [-3.0964885e-02  9.3460572e-01 -2.1369374e-01 -8.0033463e+01]\n",
      "srow_z          : [-1.7979756e-02  6.6211015e-02  2.9919450e+00 -7.6619614e+01]\n",
      "intent_name     : np.bytes_(b'')\n",
      "magic           : np.bytes_(b'n+1')\n",
      "(256, 256, 48)\n",
      "-37.93639373779297\n",
      "345.8290100097656\n"
     ]
    }
   ],
   "source": [
    "# spot check save worked\n",
    "vol = nib.load(os.path.join(new_folder, volume))\n",
    "print(vol.shape)\n",
    "print(vol.affine)\n",
    "print(vol.header)\n",
    "print(vol.get_fdata().shape)\n",
    "print(vol.get_fdata().min())\n",
    "print(vol.get_fdata().max())\n",
    "\n",
    "vol = nib.load(os.path.join(data_path, folder, volume))\n",
    "print(vol.shape)\n",
    "print(vol.affine)\n",
    "print(vol.header)\n",
    "print(vol.get_fdata().shape)\n",
    "print(vol.get_fdata().min())\n",
    "print(vol.get_fdata().max())"
   ]
  },
  {
   "cell_type": "markdown",
   "metadata": {},
   "source": [
    "## Check sampled patches by FP/Positive/Negative class"
   ]
  },
  {
   "cell_type": "code",
   "execution_count": 27,
   "metadata": {},
   "outputs": [],
   "source": [
    "import pandas as pd\n",
    "import os\n",
    "import numpy as np\n",
    "import matplotlib.pyplot as plt\n",
    "import random"
   ]
  },
  {
   "cell_type": "code",
   "execution_count": 28,
   "metadata": {},
   "outputs": [
    {
     "data": {
      "text/html": [
       "<div>\n",
       "<style scoped>\n",
       "    .dataframe tbody tr th:only-of-type {\n",
       "        vertical-align: middle;\n",
       "    }\n",
       "\n",
       "    .dataframe tbody tr th {\n",
       "        vertical-align: top;\n",
       "    }\n",
       "\n",
       "    .dataframe thead th {\n",
       "        text-align: right;\n",
       "    }\n",
       "</style>\n",
       "<table border=\"1\" class=\"dataframe\">\n",
       "  <thead>\n",
       "    <tr style=\"text-align: right;\">\n",
       "      <th></th>\n",
       "      <th>File</th>\n",
       "      <th>Vol File</th>\n",
       "      <th>Dataset</th>\n",
       "      <th>Image Size</th>\n",
       "      <th>Class</th>\n",
       "      <th>Num FP</th>\n",
       "      <th>Num WML</th>\n",
       "      <th>Num Pixels</th>\n",
       "    </tr>\n",
       "  </thead>\n",
       "  <tbody>\n",
       "    <tr>\n",
       "      <th>0</th>\n",
       "      <td>002-S-5230-v1_CU_slice_50_patch_1</td>\n",
       "      <td>002-S-5230-v1_CU.nii.gz</td>\n",
       "      <td>ADNI</td>\n",
       "      <td>(64, 64)</td>\n",
       "      <td>negative</td>\n",
       "      <td>0</td>\n",
       "      <td>0</td>\n",
       "      <td>4096</td>\n",
       "    </tr>\n",
       "    <tr>\n",
       "      <th>1</th>\n",
       "      <td>002-S-5230-v1_CU_slice_50_patch_2</td>\n",
       "      <td>002-S-5230-v1_CU.nii.gz</td>\n",
       "      <td>ADNI</td>\n",
       "      <td>(64, 64)</td>\n",
       "      <td>negative</td>\n",
       "      <td>0</td>\n",
       "      <td>0</td>\n",
       "      <td>4096</td>\n",
       "    </tr>\n",
       "    <tr>\n",
       "      <th>2</th>\n",
       "      <td>002-S-5230-v1_CU_slice_50_patch_3</td>\n",
       "      <td>002-S-5230-v1_CU.nii.gz</td>\n",
       "      <td>ADNI</td>\n",
       "      <td>(64, 64)</td>\n",
       "      <td>negative</td>\n",
       "      <td>0</td>\n",
       "      <td>0</td>\n",
       "      <td>4096</td>\n",
       "    </tr>\n",
       "    <tr>\n",
       "      <th>3</th>\n",
       "      <td>002-S-5230-v1_CU_slice_50_patch_4</td>\n",
       "      <td>002-S-5230-v1_CU.nii.gz</td>\n",
       "      <td>ADNI</td>\n",
       "      <td>(64, 64)</td>\n",
       "      <td>negative</td>\n",
       "      <td>0</td>\n",
       "      <td>0</td>\n",
       "      <td>4096</td>\n",
       "    </tr>\n",
       "    <tr>\n",
       "      <th>4</th>\n",
       "      <td>002-S-5230-v1_CU_slice_51_patch_1</td>\n",
       "      <td>002-S-5230-v1_CU.nii.gz</td>\n",
       "      <td>ADNI</td>\n",
       "      <td>(64, 64)</td>\n",
       "      <td>negative</td>\n",
       "      <td>0</td>\n",
       "      <td>0</td>\n",
       "      <td>4096</td>\n",
       "    </tr>\n",
       "  </tbody>\n",
       "</table>\n",
       "</div>"
      ],
      "text/plain": [
       "                                File                 Vol File Dataset  \\\n",
       "0  002-S-5230-v1_CU_slice_50_patch_1  002-S-5230-v1_CU.nii.gz    ADNI   \n",
       "1  002-S-5230-v1_CU_slice_50_patch_2  002-S-5230-v1_CU.nii.gz    ADNI   \n",
       "2  002-S-5230-v1_CU_slice_50_patch_3  002-S-5230-v1_CU.nii.gz    ADNI   \n",
       "3  002-S-5230-v1_CU_slice_50_patch_4  002-S-5230-v1_CU.nii.gz    ADNI   \n",
       "4  002-S-5230-v1_CU_slice_51_patch_1  002-S-5230-v1_CU.nii.gz    ADNI   \n",
       "\n",
       "  Image Size     Class  Num FP  Num WML  Num Pixels  \n",
       "0   (64, 64)  negative       0        0        4096  \n",
       "1   (64, 64)  negative       0        0        4096  \n",
       "2   (64, 64)  negative       0        0        4096  \n",
       "3   (64, 64)  negative       0        0        4096  \n",
       "4   (64, 64)  negative       0        0        4096  "
      ]
     },
     "metadata": {},
     "output_type": "display_data"
    }
   ],
   "source": [
    "sampled_xls_path = \"/Users/karissachan/Documents/GitHub/karissachan/wml-seg-data-sampling/tests/data/sample_patches/sampled_data_info.csv\"\n",
    "sampled_xls = pd.read_csv(sampled_xls_path)\n",
    "display(sampled_xls.head())\n",
    "\n",
    "patch_dir = '/Users/karissachan/Documents/GitHub/karissachan/wml-seg-data-sampling/tests/data/sample_patches/'"
   ]
  },
  {
   "cell_type": "code",
   "execution_count": 45,
   "metadata": {},
   "outputs": [
    {
     "name": "stdout",
     "output_type": "stream",
     "text": [
      "002-S-5230-v1_CU_slice_153_patch_22\n"
     ]
    }
   ],
   "source": [
    "negative_sample = sampled_xls[sampled_xls['Class'] == 'negative'].sample(n=1)['File'].iloc[0]\n",
    "fp_sample = sampled_xls[sampled_xls['Class'] == 'fp'].sample(n=1)['File'].iloc[0]\n",
    "positive_sample = sampled_xls[sampled_xls['Class'] == 'positive'].sample(n=1)['File'].iloc[0]\n",
    "\n",
    "print(negative_sample)\n"
   ]
  },
  {
   "cell_type": "code",
   "execution_count": 46,
   "metadata": {},
   "outputs": [
    {
     "name": "stdout",
     "output_type": "stream",
     "text": [
      "(64, 64)\n",
      "(64, 64)\n"
     ]
    },
    {
     "data": {
      "image/png": "[encoded data removed]",
      "text/plain": [
       "<Figure size 1000x500 with 2 Axes>"
      ]
     },
     "metadata": {},
     "output_type": "display_data"
    }
   ],
   "source": [
    "img = np.load(os.path.join(patch_dir, 'images', negative_sample+'.npy'))\n",
    "label = np.load(os.path.join(patch_dir, 'labels', negative_sample+'.npy'))\n",
    "\n",
    "print(img.shape)\n",
    "print(label.shape)\n",
    "\n",
    "\n",
    "plt.figure(figsize=(10, 5))\n",
    "plt.subplot(1, 2, 1)\n",
    "plt.imshow(img, cmap='gray')\n",
    "plt.title('Image')\n",
    "plt.subplot(1, 2, 2)\n",
    "plt.imshow(label, cmap='jet')\n",
    "plt.title('Label')\n",
    "plt.show()"
   ]
  },
  {
   "cell_type": "code",
   "execution_count": 47,
   "metadata": {},
   "outputs": [
    {
     "name": "stdout",
     "output_type": "stream",
     "text": [
      "(64, 64)\n",
      "(64, 64)\n"
     ]
    },
    {
     "data": {
      "image/png": "[encoded data removed]",
      "text/plain": [
       "<Figure size 1000x500 with 3 Axes>"
      ]
     },
     "metadata": {},
     "output_type": "display_data"
    }
   ],
   "source": [
    "img = np.load(os.path.join(patch_dir, 'images', positive_sample+'.npy'))\n",
    "label = np.load(os.path.join(patch_dir, 'labels', positive_sample+'.npy'))\n",
    "fp = np.load(os.path.join(patch_dir, 'fps', positive_sample+'.npy'))\n",
    "\n",
    "print(img.shape)\n",
    "print(label.shape)\n",
    "\n",
    "\n",
    "plt.figure(figsize=(10, 5))\n",
    "plt.subplot(1, 3, 1)\n",
    "plt.imshow(img, cmap='gray')\n",
    "plt.title('Image')\n",
    "plt.subplot(1, 3, 2)\n",
    "plt.imshow(label, cmap='jet')\n",
    "plt.title('Label')\n",
    "plt.subplot(1, 3, 3)\n",
    "plt.imshow(fp, cmap='jet')\n",
    "plt.title('FP')\n",
    "plt.show()"
   ]
  },
  {
   "cell_type": "code",
   "execution_count": 48,
   "metadata": {},
   "outputs": [
    {
     "name": "stdout",
     "output_type": "stream",
     "text": [
      "(64, 64)\n",
      "(64, 64)\n"
     ]
    },
    {
     "data": {
      "image/png": "[encoded data removed]",
      "text/plain": [
       "<Figure size 1000x500 with 3 Axes>"
      ]
     },
     "metadata": {},
     "output_type": "display_data"
    }
   ],
   "source": [
    "img = np.load(os.path.join(patch_dir, 'images', fp_sample+'.npy'))\n",
    "label = np.load(os.path.join(patch_dir, 'labels', fp_sample+'.npy'))\n",
    "fp = np.load(os.path.join(patch_dir, 'fps', fp_sample+'.npy'))\n",
    "\n",
    "print(img.shape)\n",
    "print(label.shape)\n",
    "\n",
    "\n",
    "plt.figure(figsize=(10, 5))\n",
    "plt.subplot(1, 3, 1)\n",
    "plt.imshow(img, cmap='gray')\n",
    "plt.title('Image')\n",
    "plt.subplot(1, 3, 2)\n",
    "plt.imshow(label, cmap='jet')\n",
    "plt.title('Label')\n",
    "plt.subplot(1, 3, 3)\n",
    "plt.imshow(fp, cmap='jet')\n",
    "plt.title('FP')\n",
    "plt.show()"
   ]
  }
 ],
 "metadata": {
  "kernelspec": {
   "display_name": ".venv",
   "language": "python",
   "name": "python3"
  },
  "language_info": {
   "codemirror_mode": {
    "name": "ipython",
    "version": 3
   },
   "file_extension": ".py",
   "mimetype": "text/x-python",
   "name": "python",
   "nbconvert_exporter": "python",
   "pygments_lexer": "ipython3",
   "version": "3.10.11"
  }
 },
 "nbformat": 4,
 "nbformat_minor": 2
}
